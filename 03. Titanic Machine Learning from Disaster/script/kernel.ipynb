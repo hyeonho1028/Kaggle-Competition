{
 "cells": [
  {
   "cell_type": "markdown",
   "metadata": {
    "_cell_guid": "b1076dfc-b9ad-4769-8c92-a6c4dae69d19",
    "_uuid": "8f2839f25d086af736a60e9eeb907d3b93b6e0e5"
   },
   "source": [
    "# 개요\n",
    "\n",
    "이 커널은 연구용입니다.\n",
    "목표는 정확도 0.9입니다."
   ]
  },
  {
   "cell_type": "code",
   "execution_count": 101,
   "metadata": {
    "_uuid": "ac56fbab60292e75d9adf57cf9db24a3e916ab87"
   },
   "outputs": [],
   "source": [
    "import numpy as np\n",
    "import pandas as pd\n",
    "import re\n",
    "\n",
    "import matplotlib as mlt\n",
    "%matplotlib inline\n",
    "import matplotlib.pyplot as plt\n",
    "import seaborn as sns\n",
    "\n",
    "from sklearn.preprocessing import StandardScaler\n",
    "from sklearn.preprocessing import OneHotEncoder, LabelEncoder\n",
    "from sklearn.model_selection import KFold\n",
    "from sklearn.ensemble import RandomForestRegressor\n",
    "import xgboost as xgb\n"
   ]
  },
  {
   "cell_type": "markdown",
   "metadata": {
    "_uuid": "c230574634d4e0328f074819becd1826e395ed2e"
   },
   "source": [
    "# 데이터 로드 후 구조 확인\n",
    "\n",
    "train, test data는 종속변수인 Survived를 제외하고 컬럼이 동일한 것을 알 수 있다."
   ]
  },
  {
   "cell_type": "code",
   "execution_count": 102,
   "metadata": {
    "_uuid": "9c8263f89a9471502225d938e020723623935574"
   },
   "outputs": [
    {
     "name": "stdout",
     "output_type": "stream",
     "text": [
      "Index(['PassengerId', 'Survived', 'Pclass', 'Name', 'Sex', 'Age', 'SibSp',\n",
      "       'Parch', 'Ticket', 'Fare', 'Cabin', 'Embarked'],\n",
      "      dtype='object')\n",
      "Index(['PassengerId', 'Pclass', 'Name', 'Sex', 'Age', 'SibSp', 'Parch',\n",
      "       'Ticket', 'Fare', 'Cabin', 'Embarked'],\n",
      "      dtype='object')\n",
      "{'Survived'}\n",
      "set()\n"
     ]
    }
   ],
   "source": [
    "# 데이터 로드\n",
    "train = pd.read_csv('../input/train.csv')\n",
    "test = pd.read_csv('../input/test.csv')\n",
    "\n",
    "# 컬럼 확인\n",
    "print(train.columns)\n",
    "print(test.columns)\n",
    "\n",
    "# 다른 컬럼 확인\n",
    "print(set(train.columns)-set(test.columns))\n",
    "print(set(test.columns)-set(train.columns))"
   ]
  },
  {
   "cell_type": "markdown",
   "metadata": {
    "_uuid": "949d2b2798f18df35677869d656febb800fb591d"
   },
   "source": [
    "Data head Confirm"
   ]
  },
  {
   "cell_type": "code",
   "execution_count": 103,
   "metadata": {
    "_uuid": "a15956835d78e050bf34733f1c0034c90f3d6eda"
   },
   "outputs": [
    {
     "data": {
      "text/html": [
       "<div>\n",
       "<style scoped>\n",
       "    .dataframe tbody tr th:only-of-type {\n",
       "        vertical-align: middle;\n",
       "    }\n",
       "\n",
       "    .dataframe tbody tr th {\n",
       "        vertical-align: top;\n",
       "    }\n",
       "\n",
       "    .dataframe thead th {\n",
       "        text-align: right;\n",
       "    }\n",
       "</style>\n",
       "<table border=\"1\" class=\"dataframe\">\n",
       "  <thead>\n",
       "    <tr style=\"text-align: right;\">\n",
       "      <th></th>\n",
       "      <th>PassengerId</th>\n",
       "      <th>Survived</th>\n",
       "      <th>Pclass</th>\n",
       "      <th>Name</th>\n",
       "      <th>Sex</th>\n",
       "      <th>Age</th>\n",
       "      <th>SibSp</th>\n",
       "      <th>Parch</th>\n",
       "      <th>Ticket</th>\n",
       "      <th>Fare</th>\n",
       "      <th>Cabin</th>\n",
       "      <th>Embarked</th>\n",
       "    </tr>\n",
       "  </thead>\n",
       "  <tbody>\n",
       "    <tr>\n",
       "      <th>0</th>\n",
       "      <td>1</td>\n",
       "      <td>0</td>\n",
       "      <td>3</td>\n",
       "      <td>Braund, Mr. Owen Harris</td>\n",
       "      <td>male</td>\n",
       "      <td>22.0</td>\n",
       "      <td>1</td>\n",
       "      <td>0</td>\n",
       "      <td>A/5 21171</td>\n",
       "      <td>7.2500</td>\n",
       "      <td>NaN</td>\n",
       "      <td>S</td>\n",
       "    </tr>\n",
       "    <tr>\n",
       "      <th>1</th>\n",
       "      <td>2</td>\n",
       "      <td>1</td>\n",
       "      <td>1</td>\n",
       "      <td>Cumings, Mrs. John Bradley (Florence Briggs Th...</td>\n",
       "      <td>female</td>\n",
       "      <td>38.0</td>\n",
       "      <td>1</td>\n",
       "      <td>0</td>\n",
       "      <td>PC 17599</td>\n",
       "      <td>71.2833</td>\n",
       "      <td>C85</td>\n",
       "      <td>C</td>\n",
       "    </tr>\n",
       "    <tr>\n",
       "      <th>2</th>\n",
       "      <td>3</td>\n",
       "      <td>1</td>\n",
       "      <td>3</td>\n",
       "      <td>Heikkinen, Miss. Laina</td>\n",
       "      <td>female</td>\n",
       "      <td>26.0</td>\n",
       "      <td>0</td>\n",
       "      <td>0</td>\n",
       "      <td>STON/O2. 3101282</td>\n",
       "      <td>7.9250</td>\n",
       "      <td>NaN</td>\n",
       "      <td>S</td>\n",
       "    </tr>\n",
       "  </tbody>\n",
       "</table>\n",
       "</div>"
      ],
      "text/plain": [
       "   PassengerId  Survived  Pclass  \\\n",
       "0            1         0       3   \n",
       "1            2         1       1   \n",
       "2            3         1       3   \n",
       "\n",
       "                                                Name     Sex   Age  SibSp  \\\n",
       "0                            Braund, Mr. Owen Harris    male  22.0      1   \n",
       "1  Cumings, Mrs. John Bradley (Florence Briggs Th...  female  38.0      1   \n",
       "2                             Heikkinen, Miss. Laina  female  26.0      0   \n",
       "\n",
       "   Parch            Ticket     Fare Cabin Embarked  \n",
       "0      0         A/5 21171   7.2500   NaN        S  \n",
       "1      0          PC 17599  71.2833   C85        C  \n",
       "2      0  STON/O2. 3101282   7.9250   NaN        S  "
      ]
     },
     "execution_count": 103,
     "metadata": {},
     "output_type": "execute_result"
    }
   ],
   "source": [
    "train.head(3)"
   ]
  },
  {
   "cell_type": "code",
   "execution_count": 104,
   "metadata": {
    "_uuid": "d5e91cfc57b57c52acc5d4e2add2f68847f1edd2",
    "scrolled": true
   },
   "outputs": [
    {
     "data": {
      "text/html": [
       "<div>\n",
       "<style scoped>\n",
       "    .dataframe tbody tr th:only-of-type {\n",
       "        vertical-align: middle;\n",
       "    }\n",
       "\n",
       "    .dataframe tbody tr th {\n",
       "        vertical-align: top;\n",
       "    }\n",
       "\n",
       "    .dataframe thead th {\n",
       "        text-align: right;\n",
       "    }\n",
       "</style>\n",
       "<table border=\"1\" class=\"dataframe\">\n",
       "  <thead>\n",
       "    <tr style=\"text-align: right;\">\n",
       "      <th></th>\n",
       "      <th>PassengerId</th>\n",
       "      <th>Pclass</th>\n",
       "      <th>Name</th>\n",
       "      <th>Sex</th>\n",
       "      <th>Age</th>\n",
       "      <th>SibSp</th>\n",
       "      <th>Parch</th>\n",
       "      <th>Ticket</th>\n",
       "      <th>Fare</th>\n",
       "      <th>Cabin</th>\n",
       "      <th>Embarked</th>\n",
       "    </tr>\n",
       "  </thead>\n",
       "  <tbody>\n",
       "    <tr>\n",
       "      <th>0</th>\n",
       "      <td>892</td>\n",
       "      <td>3</td>\n",
       "      <td>Kelly, Mr. James</td>\n",
       "      <td>male</td>\n",
       "      <td>34.5</td>\n",
       "      <td>0</td>\n",
       "      <td>0</td>\n",
       "      <td>330911</td>\n",
       "      <td>7.8292</td>\n",
       "      <td>NaN</td>\n",
       "      <td>Q</td>\n",
       "    </tr>\n",
       "    <tr>\n",
       "      <th>1</th>\n",
       "      <td>893</td>\n",
       "      <td>3</td>\n",
       "      <td>Wilkes, Mrs. James (Ellen Needs)</td>\n",
       "      <td>female</td>\n",
       "      <td>47.0</td>\n",
       "      <td>1</td>\n",
       "      <td>0</td>\n",
       "      <td>363272</td>\n",
       "      <td>7.0000</td>\n",
       "      <td>NaN</td>\n",
       "      <td>S</td>\n",
       "    </tr>\n",
       "    <tr>\n",
       "      <th>2</th>\n",
       "      <td>894</td>\n",
       "      <td>2</td>\n",
       "      <td>Myles, Mr. Thomas Francis</td>\n",
       "      <td>male</td>\n",
       "      <td>62.0</td>\n",
       "      <td>0</td>\n",
       "      <td>0</td>\n",
       "      <td>240276</td>\n",
       "      <td>9.6875</td>\n",
       "      <td>NaN</td>\n",
       "      <td>Q</td>\n",
       "    </tr>\n",
       "  </tbody>\n",
       "</table>\n",
       "</div>"
      ],
      "text/plain": [
       "   PassengerId  Pclass                              Name     Sex   Age  SibSp  \\\n",
       "0          892       3                  Kelly, Mr. James    male  34.5      0   \n",
       "1          893       3  Wilkes, Mrs. James (Ellen Needs)  female  47.0      1   \n",
       "2          894       2         Myles, Mr. Thomas Francis    male  62.0      0   \n",
       "\n",
       "   Parch  Ticket    Fare Cabin Embarked  \n",
       "0      0  330911  7.8292   NaN        Q  \n",
       "1      0  363272  7.0000   NaN        S  \n",
       "2      0  240276  9.6875   NaN        Q  "
      ]
     },
     "execution_count": 104,
     "metadata": {},
     "output_type": "execute_result"
    }
   ],
   "source": [
    "test.head(3)"
   ]
  },
  {
   "cell_type": "code",
   "execution_count": 105,
   "metadata": {
    "_uuid": "de665cccdc28743597cb2c6287a11e31e864192f"
   },
   "outputs": [
    {
     "data": {
      "text/plain": [
       "((891, 12), (418, 11))"
      ]
     },
     "execution_count": 105,
     "metadata": {},
     "output_type": "execute_result"
    }
   ],
   "source": [
    "train.shape, test.shape"
   ]
  },
  {
   "cell_type": "markdown",
   "metadata": {
    "_uuid": "9cffd2a28e081bba84bc0426a68b3d3791b21f48"
   },
   "source": [
    "Missing Data"
   ]
  },
  {
   "cell_type": "code",
   "execution_count": 106,
   "metadata": {
    "_uuid": "ad7100a092a5c83b1c98f6fcec5651c1781faba0"
   },
   "outputs": [
    {
     "name": "stdout",
     "output_type": "stream",
     "text": [
      "PassengerId      0\n",
      "Survived         0\n",
      "Pclass           0\n",
      "Name             0\n",
      "Sex              0\n",
      "Age            177\n",
      "SibSp            0\n",
      "Parch            0\n",
      "Ticket           0\n",
      "Fare             0\n",
      "Cabin          687\n",
      "Embarked         2\n",
      "dtype: int64\n",
      "PassengerId      0\n",
      "Pclass           0\n",
      "Name             0\n",
      "Sex              0\n",
      "Age             86\n",
      "SibSp            0\n",
      "Parch            0\n",
      "Ticket           0\n",
      "Fare             1\n",
      "Cabin          327\n",
      "Embarked         0\n",
      "dtype: int64\n"
     ]
    }
   ],
   "source": [
    "print(train.isnull().sum())\n",
    "print(test.isnull().sum())"
   ]
  },
  {
   "cell_type": "markdown",
   "metadata": {
    "_uuid": "f141199bacb5e11f6108b225d024e5b9005541dd"
   },
   "source": [
    "Add driven variable (count(NA))"
   ]
  },
  {
   "cell_type": "code",
   "execution_count": 107,
   "metadata": {
    "_uuid": "f3f5ed3c4bb30fb40dcfb44d270a9bd0048ff03c"
   },
   "outputs": [],
   "source": [
    "train['na_count'] = np.sum(train.isnull(), axis=1)"
   ]
  },
  {
   "cell_type": "code",
   "execution_count": 108,
   "metadata": {
    "_uuid": "5c14b5b98c097531d063cdd54570628052478661"
   },
   "outputs": [],
   "source": [
    "test['na_count'] = np.sum(test.isnull(), axis=1)"
   ]
  },
  {
   "cell_type": "markdown",
   "metadata": {
    "_uuid": "30ec71f00e7bdb34a6c0918a42d21d5e4684f386"
   },
   "source": [
    "Missing value fill"
   ]
  },
  {
   "cell_type": "code",
   "execution_count": 109,
   "metadata": {
    "_uuid": "08bbeb8ab30dbd03bfd8f084a5373bbd670fabd9"
   },
   "outputs": [],
   "source": [
    "train['Age'] = train['Age'].fillna(round(np.mean(train['Age'])))\n",
    "train['Cabin'] = train['Cabin'].fillna('no value')\n",
    "train['Embarked'] = train['Embarked'].fillna(train['Embarked'].value_counts().index[0])\n",
    "\n",
    "test['Age'] = test['Age'].fillna(round(np.mean(test['Age'])))\n",
    "test['Fare'] = test['Fare'].fillna(round(np.mean(test['Fare'])))\n",
    "test['Cabin'] = test['Cabin'].fillna('no value')"
   ]
  },
  {
   "cell_type": "code",
   "execution_count": 110,
   "metadata": {
    "_uuid": "4b104f730ab43aa00626ad5c60c6af8b4892165e"
   },
   "outputs": [
    {
     "name": "stdout",
     "output_type": "stream",
     "text": [
      "PassengerId    0\n",
      "Survived       0\n",
      "Pclass         0\n",
      "Name           0\n",
      "Sex            0\n",
      "Age            0\n",
      "SibSp          0\n",
      "Parch          0\n",
      "Ticket         0\n",
      "Fare           0\n",
      "Cabin          0\n",
      "Embarked       0\n",
      "na_count       0\n",
      "dtype: int64\n",
      "PassengerId    0\n",
      "Pclass         0\n",
      "Name           0\n",
      "Sex            0\n",
      "Age            0\n",
      "SibSp          0\n",
      "Parch          0\n",
      "Ticket         0\n",
      "Fare           0\n",
      "Cabin          0\n",
      "Embarked       0\n",
      "na_count       0\n",
      "dtype: int64\n"
     ]
    }
   ],
   "source": [
    "print(train.isnull().sum())\n",
    "print(test.isnull().sum())"
   ]
  },
  {
   "cell_type": "markdown",
   "metadata": {
    "_uuid": "900cadff509290bb7103c35606a6d38dd904aaeb"
   },
   "source": [
    "# Y value\n"
   ]
  },
  {
   "cell_type": "code",
   "execution_count": 111,
   "metadata": {
    "_uuid": "e6bd98e576cf1176d77a6f48eae43c966d2de6e8"
   },
   "outputs": [
    {
     "name": "stdout",
     "output_type": "stream",
     "text": [
      "0    549\n",
      "1    342\n",
      "Name: Survived, dtype: int64\n"
     ]
    },
    {
     "data": {
      "text/plain": [
       "<matplotlib.axes._subplots.AxesSubplot at 0x2057b23d828>"
      ]
     },
     "execution_count": 111,
     "metadata": {},
     "output_type": "execute_result"
    },
    {
     "data": {
      "image/png": "[encoded data removed]",
      "text/plain": [
       "<Figure size 432x288 with 1 Axes>"
      ]
     },
     "metadata": {
      "needs_background": "light"
     },
     "output_type": "display_data"
    }
   ],
   "source": [
    "print(train['Survived'].value_counts())\n",
    "sns.countplot(x='Survived', data=train)"
   ]
  },
  {
   "cell_type": "markdown",
   "metadata": {
    "_uuid": "88481c5a9ec1be1124e295e29a7c7f19f3e2ab0c"
   },
   "source": [
    "# X value"
   ]
  },
  {
   "cell_type": "code",
   "execution_count": 112,
   "metadata": {
    "_uuid": "f4d8a53b61175a3a0445bd90a2458fc41bb0aa2b"
   },
   "outputs": [
    {
     "data": {
      "text/plain": [
       "Index(['PassengerId', 'Survived', 'Pclass', 'Name', 'Sex', 'Age', 'SibSp',\n",
       "       'Parch', 'Ticket', 'Fare', 'Cabin', 'Embarked', 'na_count'],\n",
       "      dtype='object')"
      ]
     },
     "execution_count": 112,
     "metadata": {},
     "output_type": "execute_result"
    }
   ],
   "source": [
    "train.columns"
   ]
  },
  {
   "cell_type": "markdown",
   "metadata": {
    "_uuid": "e71974ba5f901e9f7f98957664eae88523db740d"
   },
   "source": [
    "PassengerId is distinct, so delete"
   ]
  },
  {
   "cell_type": "code",
   "execution_count": 113,
   "metadata": {
    "_uuid": "846606d9e6b4f5e5203c5b53b447483fb9a9c4c1"
   },
   "outputs": [
    {
     "name": "stdout",
     "output_type": "stream",
     "text": [
      "1    891\n",
      "Name: PassengerId, dtype: int64\n",
      "1    418\n",
      "Name: PassengerId, dtype: int64\n"
     ]
    }
   ],
   "source": [
    "print(train['PassengerId'].value_counts().value_counts())\n",
    "print(test['PassengerId'].value_counts().value_counts())\n",
    "\n",
    "train = train.drop(columns = 'PassengerId')\n",
    "test = test.drop(columns = 'PassengerId')"
   ]
  },
  {
   "cell_type": "markdown",
   "metadata": {
    "_uuid": "031b5b4856849cf8817158e88645f8e287cc4f28"
   },
   "source": [
    "Pclass\n",
    "\n",
    "- 위의 그래프를 보았을 때, Pclass가 1st 일때가 2nd, 3rd보다 생존률이 낮은 것으로 보인다.\n",
    "- 높은 Pclass일 때, 생존율이 낮다. 왜 그럴까? 이것인 Ticket을 확인할 필요도 보인다."
   ]
  },
  {
   "cell_type": "code",
   "execution_count": 114,
   "metadata": {
    "_uuid": "8fd3d925354e91ec0df9299fedd2cd1e856cb3ce"
   },
   "outputs": [
    {
     "data": {
      "text/plain": [
       "Text(0.5,1,'test Pclass')"
      ]
     },
     "execution_count": 114,
     "metadata": {},
     "output_type": "execute_result"
    },
    {
     "data": {
      "image/png": "[encoded data removed]",
      "text/plain": [
       "<Figure size 864x360 with 3 Axes>"
      ]
     },
     "metadata": {
      "needs_background": "light"
     },
     "output_type": "display_data"
    }
   ],
   "source": [
    "fig, axes = plt.subplots(1,3, figsize=(12,5), constrained_layout=True)\n",
    "\n",
    "sns.countplot(x=\"Pclass\", data=train, hue='Survived', ax=axes[0]).set_title('train countplot')\n",
    "sns.barplot(x=\"Pclass\", y='Survived', data=train.groupby('Pclass').mean()['Survived'].reset_index(), ax=axes[1]).set_title('train survived_ratio')\n",
    "sns.countplot(x=\"Pclass\", data=test, ax=axes[2]).set_title('test Pclass')"
   ]
  },
  {
   "cell_type": "markdown",
   "metadata": {
    "_uuid": "67f7bca64de10ba1603817cfa74ad7f866ac9ca9"
   },
   "source": [
    "Name\n",
    "\n",
    "- 이름은 유니크한 값을 가짐\n",
    "- 이름의 구조는 first name, title. last name으로 구성되는 것으로 보인다.\n",
    "- title이 유의미한 값을 가지기에 정규표현식을 사용하여 tilte을 추출한다.\n",
    "- 또한 이름의 길이가 유의미할까를 생각해 보았다. 이름의 길이가 길 수록 귀족일 확률이 있는 것인가? 혹은 부호일 가능성이 있는지에 대한 궁금증"
   ]
  },
  {
   "cell_type": "code",
   "execution_count": 115,
   "metadata": {
    "_uuid": "92955b214cfa4b3541c5b8c05c83c9c8d93201ad"
   },
   "outputs": [
    {
     "name": "stdout",
     "output_type": "stream",
     "text": [
      "True\n"
     ]
    }
   ],
   "source": [
    "print(len(train['Name'])==len(np.unique(train['Name'])))"
   ]
  },
  {
   "cell_type": "code",
   "execution_count": 116,
   "metadata": {
    "_uuid": "c2d990abbe2b49423eda2065479a11cf94ed6317"
   },
   "outputs": [],
   "source": [
    "# Name length column\n",
    "train['Name_length'] = train['Name'].apply(len)\n",
    "test['Name_length'] = test['Name'].apply(len)"
   ]
  },
  {
   "cell_type": "markdown",
   "metadata": {
    "_uuid": "fcbbdbd030112bf20dcfb0ed1afd2ebc37cfab18"
   },
   "source": [
    "- Pclass가 Ticket class를 의미하므로, 이름의 길이가 Pclass에 영향을 끼치는 가?(많은 재력을 가지고 있는가)\n",
    "- Fare 또한 운임비용으로써 재력을 상징할 수 도 있으나, 3rd를 비싼값에 주고 사는 것이 재력가인가를 생각해 보았을 때, 아니다라고 생각했다."
   ]
  },
  {
   "cell_type": "code",
   "execution_count": 117,
   "metadata": {
    "_uuid": "5a2ad5c74b8b678d38e139baf5213ab4bdb498f4"
   },
   "outputs": [
    {
     "data": {
      "text/plain": [
       "Text(0.5,1,'3rd')"
      ]
     },
     "execution_count": 117,
     "metadata": {},
     "output_type": "execute_result"
    },
    {
     "data": {
      "image/png": "[encoded data removed]",
      "text/plain": [
       "<Figure size 864x432 with 3 Axes>"
      ]
     },
     "metadata": {
      "needs_background": "light"
     },
     "output_type": "display_data"
    }
   ],
   "source": [
    "fig, axes = plt.subplots(3,1, figsize=(12,6), constrained_layout=True)\n",
    "\n",
    "sns.countplot(x=\"Name_length\", data=train[train['Pclass']==1], ax=axes[0]).set_title('1st')\n",
    "sns.countplot(x=\"Name_length\", data=train[train['Pclass']==2], ax=axes[1]).set_title('2nd')\n",
    "sns.countplot(x=\"Name_length\", data=train[train['Pclass']==3], ax=axes[2]).set_title('3rd')"
   ]
  },
  {
   "cell_type": "markdown",
   "metadata": {
    "_uuid": "d9e0c139bc3e23e55d308e3e9f72823924188904"
   },
   "source": [
    "- 대체적으로 1st, 2nd가 3rd보다 우측꼬리가 좀더 두터운 것을 볼 수 있다."
   ]
  },
  {
   "cell_type": "markdown",
   "metadata": {
    "_uuid": "cdf94bc57258f623fc6da3c28cc40c7545280fa4"
   },
   "source": [
    "extract title"
   ]
  },
  {
   "cell_type": "code",
   "execution_count": 118,
   "metadata": {
    "_uuid": "3f1570972eee5ff86ae80addd9f6513983f66a64"
   },
   "outputs": [],
   "source": [
    "train['name_title'] = train['Name'].apply(lambda x: re.search('([A-Za-z]+)\\.', x).group(1))\n",
    "test['name_title'] = test['Name'].apply(lambda x: re.search('([A-Za-z]+)\\.', x).group(1))"
   ]
  },
  {
   "cell_type": "code",
   "execution_count": 119,
   "metadata": {
    "_uuid": "b4e4fa7b07d77abdebfe99e6d0714c8a8ae6c93a"
   },
   "outputs": [
    {
     "data": {
      "text/plain": [
       "Text(0.5,1,'test name_title')"
      ]
     },
     "execution_count": 119,
     "metadata": {},
     "output_type": "execute_result"
    },
    {
     "data": {
      "image/png": "[encoded data removed]",
      "text/plain": [
       "<Figure size 1080x360 with 2 Axes>"
      ]
     },
     "metadata": {
      "needs_background": "light"
     },
     "output_type": "display_data"
    }
   ],
   "source": [
    "fig, axes = plt.subplots(1,2, figsize=(15,5), constrained_layout=True)\n",
    "\n",
    "a = sns.countplot(x=\"name_title\", data=train, order=train['name_title'].value_counts().index, ax=axes[0])\n",
    "a.set_xticklabels(labels=train['name_title'].value_counts().index, rotation=45)\n",
    "a.set_title('train name_title')\n",
    "sns.countplot(x=\"name_title\", data=test, order=test['name_title'].value_counts().index, ax=axes[1]).set_title('test name_title')"
   ]
  },
  {
   "cell_type": "markdown",
   "metadata": {
    "_uuid": "c243d9faa92e9a6cc8bb03fa4ccf7ed1a1c50082"
   },
   "source": [
    "- 겹치지 않는 부분이 있어, 서로 공통으로 가지지 않는 컬럼에 대해 etc로 변환한다."
   ]
  },
  {
   "cell_type": "code",
   "execution_count": 120,
   "metadata": {
    "_uuid": "130c5c1de61766f184f808f45dcf6aaf328425ab",
    "scrolled": true
   },
   "outputs": [],
   "source": [
    "train.loc[~train['name_title'].isin(test['name_title']), 'name_title'] = 'etc'\n",
    "test.loc[~test['name_title'].isin(train['name_title']), 'name_title'] = 'etc'"
   ]
  },
  {
   "cell_type": "code",
   "execution_count": 121,
   "metadata": {
    "_uuid": "1f94644c2fda6fa7d5a946eea25f40e4d080d229"
   },
   "outputs": [
    {
     "data": {
      "text/plain": [
       "Text(0.5,1,'test name_title')"
      ]
     },
     "execution_count": 121,
     "metadata": {},
     "output_type": "execute_result"
    },
    {
     "data": {
      "image/png": "[encoded data removed]",
      "text/plain": [
       "<Figure size 1080x360 with 2 Axes>"
      ]
     },
     "metadata": {
      "needs_background": "light"
     },
     "output_type": "display_data"
    }
   ],
   "source": [
    "fig, axes = plt.subplots(1,2, figsize=(15,5), constrained_layout=True)\n",
    "\n",
    "sns.countplot(x=\"name_title\", data=train, order=train['name_title'].value_counts().index, ax=axes[0]).set_title('train name_title')\n",
    "sns.countplot(x=\"name_title\", data=test, order=test['name_title'].value_counts().index, ax=axes[1]).set_title('test name_title')"
   ]
  },
  {
   "cell_type": "markdown",
   "metadata": {
    "_uuid": "9f11810a7c667bcd074e2cdeaf8352002b0fb650"
   },
   "source": [
    "Sex\n",
    "- basemodel을 만들어본 결과 강력한 변수 중 하나이다.\n",
    "- 남성의 경우 죽을 확률이 매우 높고, 여성의 경우 생존확률이 남성보다 높음을 알 수 있다."
   ]
  },
  {
   "cell_type": "code",
   "execution_count": 122,
   "metadata": {
    "_uuid": "e38c3c2a299dd12ecbfbfe1f45a2c034c8afb65c"
   },
   "outputs": [
    {
     "data": {
      "text/plain": [
       "Text(0.5,1,'test Pclass')"
      ]
     },
     "execution_count": 122,
     "metadata": {},
     "output_type": "execute_result"
    },
    {
     "data": {
      "image/png": "[encoded data removed]",
      "text/plain": [
       "<Figure size 864x360 with 3 Axes>"
      ]
     },
     "metadata": {
      "needs_background": "light"
     },
     "output_type": "display_data"
    }
   ],
   "source": [
    "fig, axes = plt.subplots(1,3, figsize=(12,5), constrained_layout=True)\n",
    "\n",
    "sns.countplot(x=\"Sex\", data=train, hue='Survived', ax=axes[0]).set_title('train countplot')\n",
    "sns.barplot(x=\"Sex\", y='Survived', data=train.groupby('Sex').mean()['Survived'].reset_index(), order=['male', 'female'], ax=axes[1]).set_title('train Sex_ratio')\n",
    "sns.countplot(x=\"Sex\", data=test, ax=axes[2]).set_title('test Pclass')"
   ]
  },
  {
   "cell_type": "markdown",
   "metadata": {
    "_uuid": "f79f7780432b6a6fe454b95e9344bcf05ccda1c8"
   },
   "source": [
    "- Interaction effect를 이용하면 어떨까..?"
   ]
  },
  {
   "cell_type": "markdown",
   "metadata": {
    "_uuid": "3dc9ebc72ee1b422aa7c5daa4f762570e5cf5d5f"
   },
   "source": [
    "Age"
   ]
  },
  {
   "cell_type": "code",
   "execution_count": 123,
   "metadata": {
    "_uuid": "68f73bc87708a6c1273c01e19a356151097e1925"
   },
   "outputs": [
    {
     "name": "stderr",
     "output_type": "stream",
     "text": [
      "D:\\Anaconda3\\lib\\site-packages\\scipy\\stats\\stats.py:1713: FutureWarning: Using a non-tuple sequence for multidimensional indexing is deprecated; use `arr[tuple(seq)]` instead of `arr[seq]`. In the future this will be interpreted as an array index, `arr[np.array(seq)]`, which will result either in an error or a different result.\n",
      "  return np.add.reduce(sorted[indexer] * weights, axis=axis) / sumval\n"
     ]
    },
    {
     "data": {
      "text/plain": [
       "<matplotlib.axes._subplots.AxesSubplot at 0x2057bc1af98>"
      ]
     },
     "execution_count": 123,
     "metadata": {},
     "output_type": "execute_result"
    },
    {
     "data": {
      "image/png": "[encoded data removed]",
      "text/plain": [
       "<Figure size 576x288 with 2 Axes>"
      ]
     },
     "metadata": {
      "needs_background": "light"
     },
     "output_type": "display_data"
    }
   ],
   "source": [
    "fig, axes = plt.subplots(1,2, figsize=(8,4), constrained_layout=True)\n",
    "\n",
    "for val in [0, 1]:\n",
    "    sns.kdeplot(train.loc[train['Survived']==val, 'Age'], shade=True, label=val, ax=axes[0])\n",
    "\n",
    "sns.kdeplot(data=test['Age'], shade=True, ax=axes[1])"
   ]
  },
  {
   "cell_type": "markdown",
   "metadata": {
    "_uuid": "69b85faba2aed6b4cb4fe3e5606305c41c2f3ee9"
   },
   "source": [
    "- 20세 이하인 경우 사망확률이 높은 것을 볼 수 있다. 이 점을 이용하기 위해 연속형 변수 보다는 카테고리컬 변수가 더 효과적인 것으로 보인다."
   ]
  },
  {
   "cell_type": "code",
   "execution_count": 124,
   "metadata": {
    "_uuid": "c9823c4d9da1b1f6aec862514a337932671aee81",
    "scrolled": true
   },
   "outputs": [],
   "source": [
    "train['cate_age'] = pd.cut(train['Age'], [0, 15, 25, 40, 60, np.max(train['Age'])], labels=[1, 2, 3, 4, 5])\n",
    "test['cate_age'] = pd.cut(test['Age'], [0, 15, 25, 40, 60, np.max(train['Age'])], labels=[1, 2, 3, 4, 5])"
   ]
  },
  {
   "cell_type": "markdown",
   "metadata": {
    "_uuid": "8fbb4c00e6aaaf5a87e7ae9eda7448b64a235fb7"
   },
   "source": [
    "- train data를 보았을 때, 약 4개의 봉우리가 보이는데, 그 봉우리를 기준으로 위의 bins기준을 세웠다."
   ]
  },
  {
   "cell_type": "markdown",
   "metadata": {
    "_uuid": "bb160826a9d42d95a5500c39a1a39d1a085c071b"
   },
   "source": [
    "sibsp and parch"
   ]
  },
  {
   "cell_type": "code",
   "execution_count": 125,
   "metadata": {
    "_uuid": "0345df244553bb052476ff33396b10f53633039c"
   },
   "outputs": [
    {
     "data": {
      "text/plain": [
       "<matplotlib.axes._subplots.AxesSubplot at 0x2057ac09710>"
      ]
     },
     "execution_count": 125,
     "metadata": {},
     "output_type": "execute_result"
    },
    {
     "data": {
      "image/png": "[encoded data removed]",
      "text/plain": [
       "<Figure size 576x432 with 2 Axes>"
      ]
     },
     "metadata": {
      "needs_background": "light"
     },
     "output_type": "display_data"
    }
   ],
   "source": [
    "fig, axes = plt.subplots(1,2, figsize=(8,6), constrained_layout=True)\n",
    "\n",
    "sns.countplot(x='SibSp', data=train, hue='Survived', ax=axes[0])\n",
    "sns.countplot(x='SibSp', data=test, ax=axes[1])"
   ]
  },
  {
   "cell_type": "code",
   "execution_count": 126,
   "metadata": {
    "_uuid": "c18b2488c278c0baba2e80d2e8519503ed3a44e6"
   },
   "outputs": [
    {
     "data": {
      "text/plain": [
       "<matplotlib.axes._subplots.AxesSubplot at 0x2057c132ba8>"
      ]
     },
     "execution_count": 126,
     "metadata": {},
     "output_type": "execute_result"
    },
    {
     "data": {
      "image/png": "[encoded data removed]",
      "text/plain": [
       "<Figure size 576x432 with 2 Axes>"
      ]
     },
     "metadata": {
      "needs_background": "light"
     },
     "output_type": "display_data"
    }
   ],
   "source": [
    "fig, axes = plt.subplots(1,2, figsize=(8,6), constrained_layout=True)\n",
    "\n",
    "sns.countplot(x='Parch', data=train, hue='Survived', ax=axes[0])\n",
    "sns.countplot(x='Parch', data=test, ax=axes[1])"
   ]
  },
  {
   "cell_type": "markdown",
   "metadata": {
    "_uuid": "371ff36112a5a046a563fe477225e520dec6d64d"
   },
   "source": [
    "- sibsp\t# of siblings / spouses aboard the Titanic\n",
    "- parch\t# of parents / children aboard the Titanic\n",
    "- 이므로 두 컬럼은 유사한 성격을 가지고 있다고 볼 수 있다.\n",
    "- 눈여겨 볼 수 있는 부분은 Parch와 SiSap가 0명일 때, 생존율이 높은 것을 알 수 있다."
   ]
  },
  {
   "cell_type": "code",
   "execution_count": 127,
   "metadata": {
    "_uuid": "2daad331823af49d57c482b6fabe62c3ce29ecf7"
   },
   "outputs": [],
   "source": [
    "train['family_size'] = train['SibSp'] + train['Parch']\n",
    "test['family_size'] = test['SibSp'] + test['Parch']"
   ]
  },
  {
   "cell_type": "markdown",
   "metadata": {
    "_uuid": "1fae519d0128edc74082b1cc1db01cee9446b25b"
   },
   "source": [
    "- family_size컬럼의 경우 SibSp와 Parch의 합으로 써 가족의 규모를 뜻한다."
   ]
  },
  {
   "cell_type": "code",
   "execution_count": 128,
   "metadata": {
    "_uuid": "b84775315a7a44613bd16e1c81cbfd436741e5c7",
    "scrolled": false
   },
   "outputs": [
    {
     "data": {
      "text/html": [
       "<div>\n",
       "<style scoped>\n",
       "    .dataframe tbody tr th:only-of-type {\n",
       "        vertical-align: middle;\n",
       "    }\n",
       "\n",
       "    .dataframe tbody tr th {\n",
       "        vertical-align: top;\n",
       "    }\n",
       "\n",
       "    .dataframe thead th {\n",
       "        text-align: right;\n",
       "    }\n",
       "</style>\n",
       "<table border=\"1\" class=\"dataframe\">\n",
       "  <thead>\n",
       "    <tr style=\"text-align: right;\">\n",
       "      <th>family_size</th>\n",
       "      <th>0</th>\n",
       "      <th>1</th>\n",
       "      <th>2</th>\n",
       "      <th>3</th>\n",
       "      <th>4</th>\n",
       "      <th>5</th>\n",
       "      <th>6</th>\n",
       "      <th>7</th>\n",
       "      <th>10</th>\n",
       "    </tr>\n",
       "    <tr>\n",
       "      <th>Ticket</th>\n",
       "      <th></th>\n",
       "      <th></th>\n",
       "      <th></th>\n",
       "      <th></th>\n",
       "      <th></th>\n",
       "      <th></th>\n",
       "      <th></th>\n",
       "      <th></th>\n",
       "      <th></th>\n",
       "    </tr>\n",
       "  </thead>\n",
       "  <tbody>\n",
       "    <tr>\n",
       "      <th>113781</th>\n",
       "      <td>1</td>\n",
       "      <td>0</td>\n",
       "      <td>0</td>\n",
       "      <td>3</td>\n",
       "      <td>0</td>\n",
       "      <td>0</td>\n",
       "      <td>0</td>\n",
       "      <td>0</td>\n",
       "      <td>0</td>\n",
       "    </tr>\n",
       "    <tr>\n",
       "      <th>11767</th>\n",
       "      <td>1</td>\n",
       "      <td>1</td>\n",
       "      <td>0</td>\n",
       "      <td>0</td>\n",
       "      <td>0</td>\n",
       "      <td>0</td>\n",
       "      <td>0</td>\n",
       "      <td>0</td>\n",
       "      <td>0</td>\n",
       "    </tr>\n",
       "    <tr>\n",
       "      <th>12749</th>\n",
       "      <td>1</td>\n",
       "      <td>0</td>\n",
       "      <td>1</td>\n",
       "      <td>0</td>\n",
       "      <td>0</td>\n",
       "      <td>0</td>\n",
       "      <td>0</td>\n",
       "      <td>0</td>\n",
       "      <td>0</td>\n",
       "    </tr>\n",
       "    <tr>\n",
       "      <th>13502</th>\n",
       "      <td>1</td>\n",
       "      <td>2</td>\n",
       "      <td>0</td>\n",
       "      <td>0</td>\n",
       "      <td>0</td>\n",
       "      <td>0</td>\n",
       "      <td>0</td>\n",
       "      <td>0</td>\n",
       "      <td>0</td>\n",
       "    </tr>\n",
       "    <tr>\n",
       "      <th>16966</th>\n",
       "      <td>1</td>\n",
       "      <td>0</td>\n",
       "      <td>1</td>\n",
       "      <td>0</td>\n",
       "      <td>0</td>\n",
       "      <td>0</td>\n",
       "      <td>0</td>\n",
       "      <td>0</td>\n",
       "      <td>0</td>\n",
       "    </tr>\n",
       "    <tr>\n",
       "      <th>17421</th>\n",
       "      <td>1</td>\n",
       "      <td>0</td>\n",
       "      <td>3</td>\n",
       "      <td>0</td>\n",
       "      <td>0</td>\n",
       "      <td>0</td>\n",
       "      <td>0</td>\n",
       "      <td>0</td>\n",
       "      <td>0</td>\n",
       "    </tr>\n",
       "    <tr>\n",
       "      <th>19877</th>\n",
       "      <td>1</td>\n",
       "      <td>1</td>\n",
       "      <td>0</td>\n",
       "      <td>0</td>\n",
       "      <td>0</td>\n",
       "      <td>0</td>\n",
       "      <td>0</td>\n",
       "      <td>0</td>\n",
       "      <td>0</td>\n",
       "    </tr>\n",
       "    <tr>\n",
       "      <th>19928</th>\n",
       "      <td>0</td>\n",
       "      <td>1</td>\n",
       "      <td>1</td>\n",
       "      <td>0</td>\n",
       "      <td>0</td>\n",
       "      <td>0</td>\n",
       "      <td>0</td>\n",
       "      <td>0</td>\n",
       "      <td>0</td>\n",
       "    </tr>\n",
       "    <tr>\n",
       "      <th>24160</th>\n",
       "      <td>1</td>\n",
       "      <td>2</td>\n",
       "      <td>0</td>\n",
       "      <td>0</td>\n",
       "      <td>0</td>\n",
       "      <td>0</td>\n",
       "      <td>0</td>\n",
       "      <td>0</td>\n",
       "      <td>0</td>\n",
       "    </tr>\n",
       "    <tr>\n",
       "      <th>243847</th>\n",
       "      <td>0</td>\n",
       "      <td>1</td>\n",
       "      <td>0</td>\n",
       "      <td>1</td>\n",
       "      <td>0</td>\n",
       "      <td>0</td>\n",
       "      <td>0</td>\n",
       "      <td>0</td>\n",
       "      <td>0</td>\n",
       "    </tr>\n",
       "    <tr>\n",
       "      <th>248727</th>\n",
       "      <td>1</td>\n",
       "      <td>2</td>\n",
       "      <td>0</td>\n",
       "      <td>0</td>\n",
       "      <td>0</td>\n",
       "      <td>0</td>\n",
       "      <td>0</td>\n",
       "      <td>0</td>\n",
       "      <td>0</td>\n",
       "    </tr>\n",
       "    <tr>\n",
       "      <th>29106</th>\n",
       "      <td>0</td>\n",
       "      <td>0</td>\n",
       "      <td>2</td>\n",
       "      <td>0</td>\n",
       "      <td>0</td>\n",
       "      <td>1</td>\n",
       "      <td>0</td>\n",
       "      <td>0</td>\n",
       "      <td>0</td>\n",
       "    </tr>\n",
       "    <tr>\n",
       "      <th>3101278</th>\n",
       "      <td>0</td>\n",
       "      <td>1</td>\n",
       "      <td>0</td>\n",
       "      <td>1</td>\n",
       "      <td>0</td>\n",
       "      <td>0</td>\n",
       "      <td>0</td>\n",
       "      <td>0</td>\n",
       "      <td>0</td>\n",
       "    </tr>\n",
       "    <tr>\n",
       "      <th>31027</th>\n",
       "      <td>0</td>\n",
       "      <td>1</td>\n",
       "      <td>0</td>\n",
       "      <td>1</td>\n",
       "      <td>0</td>\n",
       "      <td>0</td>\n",
       "      <td>0</td>\n",
       "      <td>0</td>\n",
       "      <td>0</td>\n",
       "    </tr>\n",
       "    <tr>\n",
       "      <th>347054</th>\n",
       "      <td>0</td>\n",
       "      <td>1</td>\n",
       "      <td>1</td>\n",
       "      <td>0</td>\n",
       "      <td>0</td>\n",
       "      <td>0</td>\n",
       "      <td>0</td>\n",
       "      <td>0</td>\n",
       "      <td>0</td>\n",
       "    </tr>\n",
       "    <tr>\n",
       "      <th>35273</th>\n",
       "      <td>0</td>\n",
       "      <td>2</td>\n",
       "      <td>1</td>\n",
       "      <td>0</td>\n",
       "      <td>0</td>\n",
       "      <td>0</td>\n",
       "      <td>0</td>\n",
       "      <td>0</td>\n",
       "      <td>0</td>\n",
       "    </tr>\n",
       "    <tr>\n",
       "      <th>371110</th>\n",
       "      <td>1</td>\n",
       "      <td>2</td>\n",
       "      <td>0</td>\n",
       "      <td>0</td>\n",
       "      <td>0</td>\n",
       "      <td>0</td>\n",
       "      <td>0</td>\n",
       "      <td>0</td>\n",
       "      <td>0</td>\n",
       "    </tr>\n",
       "    <tr>\n",
       "      <th>A/4 48871</th>\n",
       "      <td>1</td>\n",
       "      <td>0</td>\n",
       "      <td>1</td>\n",
       "      <td>0</td>\n",
       "      <td>0</td>\n",
       "      <td>0</td>\n",
       "      <td>0</td>\n",
       "      <td>0</td>\n",
       "      <td>0</td>\n",
       "    </tr>\n",
       "    <tr>\n",
       "      <th>PC 17485</th>\n",
       "      <td>1</td>\n",
       "      <td>1</td>\n",
       "      <td>0</td>\n",
       "      <td>0</td>\n",
       "      <td>0</td>\n",
       "      <td>0</td>\n",
       "      <td>0</td>\n",
       "      <td>0</td>\n",
       "      <td>0</td>\n",
       "    </tr>\n",
       "    <tr>\n",
       "      <th>PC 17569</th>\n",
       "      <td>1</td>\n",
       "      <td>1</td>\n",
       "      <td>0</td>\n",
       "      <td>0</td>\n",
       "      <td>0</td>\n",
       "      <td>0</td>\n",
       "      <td>0</td>\n",
       "      <td>0</td>\n",
       "      <td>0</td>\n",
       "    </tr>\n",
       "    <tr>\n",
       "      <th>PC 17572</th>\n",
       "      <td>1</td>\n",
       "      <td>2</td>\n",
       "      <td>0</td>\n",
       "      <td>0</td>\n",
       "      <td>0</td>\n",
       "      <td>0</td>\n",
       "      <td>0</td>\n",
       "      <td>0</td>\n",
       "      <td>0</td>\n",
       "    </tr>\n",
       "    <tr>\n",
       "      <th>PC 17582</th>\n",
       "      <td>1</td>\n",
       "      <td>2</td>\n",
       "      <td>0</td>\n",
       "      <td>0</td>\n",
       "      <td>0</td>\n",
       "      <td>0</td>\n",
       "      <td>0</td>\n",
       "      <td>0</td>\n",
       "      <td>0</td>\n",
       "    </tr>\n",
       "    <tr>\n",
       "      <th>PC 17611</th>\n",
       "      <td>0</td>\n",
       "      <td>1</td>\n",
       "      <td>1</td>\n",
       "      <td>0</td>\n",
       "      <td>0</td>\n",
       "      <td>0</td>\n",
       "      <td>0</td>\n",
       "      <td>0</td>\n",
       "      <td>0</td>\n",
       "    </tr>\n",
       "    <tr>\n",
       "      <th>PC 17755</th>\n",
       "      <td>2</td>\n",
       "      <td>1</td>\n",
       "      <td>0</td>\n",
       "      <td>0</td>\n",
       "      <td>0</td>\n",
       "      <td>0</td>\n",
       "      <td>0</td>\n",
       "      <td>0</td>\n",
       "      <td>0</td>\n",
       "    </tr>\n",
       "    <tr>\n",
       "      <th>PC 17757</th>\n",
       "      <td>3</td>\n",
       "      <td>1</td>\n",
       "      <td>0</td>\n",
       "      <td>0</td>\n",
       "      <td>0</td>\n",
       "      <td>0</td>\n",
       "      <td>0</td>\n",
       "      <td>0</td>\n",
       "      <td>0</td>\n",
       "    </tr>\n",
       "    <tr>\n",
       "      <th>PC 17761</th>\n",
       "      <td>1</td>\n",
       "      <td>1</td>\n",
       "      <td>0</td>\n",
       "      <td>0</td>\n",
       "      <td>0</td>\n",
       "      <td>0</td>\n",
       "      <td>0</td>\n",
       "      <td>0</td>\n",
       "      <td>0</td>\n",
       "    </tr>\n",
       "    <tr>\n",
       "      <th>S.O.C. 14879</th>\n",
       "      <td>2</td>\n",
       "      <td>0</td>\n",
       "      <td>3</td>\n",
       "      <td>0</td>\n",
       "      <td>0</td>\n",
       "      <td>0</td>\n",
       "      <td>0</td>\n",
       "      <td>0</td>\n",
       "      <td>0</td>\n",
       "    </tr>\n",
       "  </tbody>\n",
       "</table>\n",
       "</div>"
      ],
      "text/plain": [
       "family_size   0   1   2   3   4   5   6   7   10\n",
       "Ticket                                          \n",
       "113781         1   0   0   3   0   0   0   0   0\n",
       "11767          1   1   0   0   0   0   0   0   0\n",
       "12749          1   0   1   0   0   0   0   0   0\n",
       "13502          1   2   0   0   0   0   0   0   0\n",
       "16966          1   0   1   0   0   0   0   0   0\n",
       "17421          1   0   3   0   0   0   0   0   0\n",
       "19877          1   1   0   0   0   0   0   0   0\n",
       "19928          0   1   1   0   0   0   0   0   0\n",
       "24160          1   2   0   0   0   0   0   0   0\n",
       "243847         0   1   0   1   0   0   0   0   0\n",
       "248727         1   2   0   0   0   0   0   0   0\n",
       "29106          0   0   2   0   0   1   0   0   0\n",
       "3101278        0   1   0   1   0   0   0   0   0\n",
       "31027          0   1   0   1   0   0   0   0   0\n",
       "347054         0   1   1   0   0   0   0   0   0\n",
       "35273          0   2   1   0   0   0   0   0   0\n",
       "371110         1   2   0   0   0   0   0   0   0\n",
       "A/4 48871      1   0   1   0   0   0   0   0   0\n",
       "PC 17485       1   1   0   0   0   0   0   0   0\n",
       "PC 17569       1   1   0   0   0   0   0   0   0\n",
       "PC 17572       1   2   0   0   0   0   0   0   0\n",
       "PC 17582       1   2   0   0   0   0   0   0   0\n",
       "PC 17611       0   1   1   0   0   0   0   0   0\n",
       "PC 17755       2   1   0   0   0   0   0   0   0\n",
       "PC 17757       3   1   0   0   0   0   0   0   0\n",
       "PC 17761       1   1   0   0   0   0   0   0   0\n",
       "S.O.C. 14879   2   0   3   0   0   0   0   0   0"
      ]
     },
     "execution_count": 128,
     "metadata": {},
     "output_type": "execute_result"
    }
   ],
   "source": [
    "crosstab_family_size = pd.crosstab(train['Ticket'], train['family_size'])\n",
    "crosstab_family_size.loc[np.count_nonzero(crosstab_family_size==0, axis=1)!=8, ]"
   ]
  },
  {
   "cell_type": "markdown",
   "metadata": {
    "_uuid": "d50d82a201a67affeff841b6f24d500b5b2c6f70"
   },
   "source": [
    "- 티켓번호에 따라 family size가 정해지는 것이 아님을 알 수 있다.\n",
    "- 그렇다면, family size은 사망률에 영향을 주는가?"
   ]
  },
  {
   "cell_type": "code",
   "execution_count": 129,
   "metadata": {
    "_uuid": "84b89cad6e7227708e96422df762fbde569da8fc"
   },
   "outputs": [
    {
     "data": {
      "text/plain": [
       "<matplotlib.axes._subplots.AxesSubplot at 0x2057d337ac8>"
      ]
     },
     "execution_count": 129,
     "metadata": {},
     "output_type": "execute_result"
    },
    {
     "data": {
      "image/png": "[encoded data removed]",
      "text/plain": [
       "<Figure size 864x288 with 2 Axes>"
      ]
     },
     "metadata": {
      "needs_background": "light"
     },
     "output_type": "display_data"
    }
   ],
   "source": [
    "fig, axes = plt.subplots(1,2, figsize=(12,4), constrained_layout=True)\n",
    "\n",
    "sns.countplot(x='family_size', data=train, hue='Survived', ax=axes[0])\n",
    "sns.countplot(x='family_size', data=test, ax=axes[1])"
   ]
  },
  {
   "cell_type": "markdown",
   "metadata": {
    "_uuid": "09c06f2ce6270808b107c49d225def608980d9c4"
   },
   "source": [
    "- family_size가 1, 2, 3인경우에 사망률이 높다.\n",
    "- 그러므로 [0, 4, 5, 6, 7, 10]과 [1, 2, 3]을 그룹핑한다."
   ]
  },
  {
   "cell_type": "code",
   "execution_count": 130,
   "metadata": {
    "_uuid": "d4133e8eb2b6030fc9f43261fead3242397b0b46",
    "scrolled": true
   },
   "outputs": [],
   "source": [
    "train.loc[train['family_size'].isin([0, 4, 5, 6, 7, 10]), 'family_size'] = 0\n",
    "train.loc[train['family_size'].isin([1, 2, 3]), 'family_size'] = 1"
   ]
  },
  {
   "cell_type": "code",
   "execution_count": 131,
   "metadata": {
    "_uuid": "b9fc8bb85515db175c5ae193652feabe2dd83cf3"
   },
   "outputs": [],
   "source": [
    "test.loc[test['family_size'].isin([0, 4, 5, 6, 7, 10]), 'family_size'] = 0\n",
    "test.loc[test['family_size'].isin([1, 2, 3]), 'family_size'] = 1"
   ]
  },
  {
   "cell_type": "markdown",
   "metadata": {
    "_uuid": "a349d95a108b12f0caee6fd7964c504f25b2cfd2"
   },
   "source": [
    "Ticket\n",
    "- 티켓은 가족이라면 동일한가?\n",
    "- 티켓이 같을 때 운임비용이 같다면, 가족이라고 판단할 수 있을까"
   ]
  },
  {
   "cell_type": "code",
   "execution_count": 163,
   "metadata": {
    "_uuid": "b1dc3d261e6fa03c2ac488045e2b8db5511e43f1",
    "scrolled": true
   },
   "outputs": [
    {
     "data": {
      "text/plain": [
       "0.000000    421\n",
       "1.000000    211\n",
       "0.500000     32\n",
       "0.666667     11\n",
       "0.750000      3\n",
       "0.714286      1\n",
       "0.333333      1\n",
       "0.250000      1\n",
       "Name: Survived, dtype: int64"
      ]
     },
     "execution_count": 163,
     "metadata": {},
     "output_type": "execute_result"
    }
   ],
   "source": [
    "train.groupby('Ticket').mean()['Survived'].value_counts()"
   ]
  },
  {
   "cell_type": "code",
   "execution_count": 133,
   "metadata": {
    "_uuid": "3da57777926c1d34cf51054f3f3e77a178e47577",
    "scrolled": true
   },
   "outputs": [
    {
     "data": {
      "text/html": [
       "<div>\n",
       "<style scoped>\n",
       "    .dataframe tbody tr th:only-of-type {\n",
       "        vertical-align: middle;\n",
       "    }\n",
       "\n",
       "    .dataframe tbody tr th {\n",
       "        vertical-align: top;\n",
       "    }\n",
       "\n",
       "    .dataframe thead th {\n",
       "        text-align: right;\n",
       "    }\n",
       "</style>\n",
       "<table border=\"1\" class=\"dataframe\">\n",
       "  <thead>\n",
       "    <tr style=\"text-align: right;\">\n",
       "      <th></th>\n",
       "      <th>Ticket</th>\n",
       "      <th>Fare</th>\n",
       "    </tr>\n",
       "  </thead>\n",
       "  <tbody>\n",
       "    <tr>\n",
       "      <th>0</th>\n",
       "      <td>A/5 21171</td>\n",
       "      <td>7.2500</td>\n",
       "    </tr>\n",
       "    <tr>\n",
       "      <th>1</th>\n",
       "      <td>PC 17599</td>\n",
       "      <td>71.2833</td>\n",
       "    </tr>\n",
       "    <tr>\n",
       "      <th>2</th>\n",
       "      <td>STON/O2. 3101282</td>\n",
       "      <td>7.9250</td>\n",
       "    </tr>\n",
       "    <tr>\n",
       "      <th>3</th>\n",
       "      <td>113803</td>\n",
       "      <td>53.1000</td>\n",
       "    </tr>\n",
       "    <tr>\n",
       "      <th>4</th>\n",
       "      <td>373450</td>\n",
       "      <td>8.0500</td>\n",
       "    </tr>\n",
       "    <tr>\n",
       "      <th>5</th>\n",
       "      <td>330877</td>\n",
       "      <td>8.4583</td>\n",
       "    </tr>\n",
       "    <tr>\n",
       "      <th>6</th>\n",
       "      <td>17463</td>\n",
       "      <td>51.8625</td>\n",
       "    </tr>\n",
       "    <tr>\n",
       "      <th>7</th>\n",
       "      <td>349909</td>\n",
       "      <td>21.0750</td>\n",
       "    </tr>\n",
       "    <tr>\n",
       "      <th>8</th>\n",
       "      <td>347742</td>\n",
       "      <td>11.1333</td>\n",
       "    </tr>\n",
       "    <tr>\n",
       "      <th>9</th>\n",
       "      <td>237736</td>\n",
       "      <td>30.0708</td>\n",
       "    </tr>\n",
       "    <tr>\n",
       "      <th>10</th>\n",
       "      <td>PP 9549</td>\n",
       "      <td>16.7000</td>\n",
       "    </tr>\n",
       "    <tr>\n",
       "      <th>11</th>\n",
       "      <td>113783</td>\n",
       "      <td>26.5500</td>\n",
       "    </tr>\n",
       "    <tr>\n",
       "      <th>12</th>\n",
       "      <td>A/5. 2151</td>\n",
       "      <td>8.0500</td>\n",
       "    </tr>\n",
       "    <tr>\n",
       "      <th>13</th>\n",
       "      <td>347082</td>\n",
       "      <td>31.2750</td>\n",
       "    </tr>\n",
       "    <tr>\n",
       "      <th>14</th>\n",
       "      <td>350406</td>\n",
       "      <td>7.8542</td>\n",
       "    </tr>\n",
       "    <tr>\n",
       "      <th>15</th>\n",
       "      <td>248706</td>\n",
       "      <td>16.0000</td>\n",
       "    </tr>\n",
       "    <tr>\n",
       "      <th>16</th>\n",
       "      <td>382652</td>\n",
       "      <td>29.1250</td>\n",
       "    </tr>\n",
       "    <tr>\n",
       "      <th>17</th>\n",
       "      <td>244373</td>\n",
       "      <td>13.0000</td>\n",
       "    </tr>\n",
       "    <tr>\n",
       "      <th>18</th>\n",
       "      <td>345763</td>\n",
       "      <td>18.0000</td>\n",
       "    </tr>\n",
       "    <tr>\n",
       "      <th>19</th>\n",
       "      <td>2649</td>\n",
       "      <td>7.2250</td>\n",
       "    </tr>\n",
       "    <tr>\n",
       "      <th>20</th>\n",
       "      <td>239865</td>\n",
       "      <td>26.0000</td>\n",
       "    </tr>\n",
       "    <tr>\n",
       "      <th>21</th>\n",
       "      <td>248698</td>\n",
       "      <td>13.0000</td>\n",
       "    </tr>\n",
       "    <tr>\n",
       "      <th>22</th>\n",
       "      <td>330923</td>\n",
       "      <td>8.0292</td>\n",
       "    </tr>\n",
       "    <tr>\n",
       "      <th>23</th>\n",
       "      <td>113788</td>\n",
       "      <td>35.5000</td>\n",
       "    </tr>\n",
       "    <tr>\n",
       "      <th>24</th>\n",
       "      <td>349909</td>\n",
       "      <td>21.0750</td>\n",
       "    </tr>\n",
       "    <tr>\n",
       "      <th>25</th>\n",
       "      <td>347077</td>\n",
       "      <td>31.3875</td>\n",
       "    </tr>\n",
       "    <tr>\n",
       "      <th>26</th>\n",
       "      <td>2631</td>\n",
       "      <td>7.2250</td>\n",
       "    </tr>\n",
       "    <tr>\n",
       "      <th>27</th>\n",
       "      <td>19950</td>\n",
       "      <td>263.0000</td>\n",
       "    </tr>\n",
       "    <tr>\n",
       "      <th>28</th>\n",
       "      <td>330959</td>\n",
       "      <td>7.8792</td>\n",
       "    </tr>\n",
       "    <tr>\n",
       "      <th>29</th>\n",
       "      <td>349216</td>\n",
       "      <td>7.8958</td>\n",
       "    </tr>\n",
       "    <tr>\n",
       "      <th>...</th>\n",
       "      <td>...</td>\n",
       "      <td>...</td>\n",
       "    </tr>\n",
       "    <tr>\n",
       "      <th>861</th>\n",
       "      <td>28134</td>\n",
       "      <td>11.5000</td>\n",
       "    </tr>\n",
       "    <tr>\n",
       "      <th>862</th>\n",
       "      <td>17466</td>\n",
       "      <td>25.9292</td>\n",
       "    </tr>\n",
       "    <tr>\n",
       "      <th>863</th>\n",
       "      <td>CA. 2343</td>\n",
       "      <td>69.5500</td>\n",
       "    </tr>\n",
       "    <tr>\n",
       "      <th>864</th>\n",
       "      <td>233866</td>\n",
       "      <td>13.0000</td>\n",
       "    </tr>\n",
       "    <tr>\n",
       "      <th>865</th>\n",
       "      <td>236852</td>\n",
       "      <td>13.0000</td>\n",
       "    </tr>\n",
       "    <tr>\n",
       "      <th>866</th>\n",
       "      <td>SC/PARIS 2149</td>\n",
       "      <td>13.8583</td>\n",
       "    </tr>\n",
       "    <tr>\n",
       "      <th>867</th>\n",
       "      <td>PC 17590</td>\n",
       "      <td>50.4958</td>\n",
       "    </tr>\n",
       "    <tr>\n",
       "      <th>868</th>\n",
       "      <td>345777</td>\n",
       "      <td>9.5000</td>\n",
       "    </tr>\n",
       "    <tr>\n",
       "      <th>869</th>\n",
       "      <td>347742</td>\n",
       "      <td>11.1333</td>\n",
       "    </tr>\n",
       "    <tr>\n",
       "      <th>870</th>\n",
       "      <td>349248</td>\n",
       "      <td>7.8958</td>\n",
       "    </tr>\n",
       "    <tr>\n",
       "      <th>871</th>\n",
       "      <td>11751</td>\n",
       "      <td>52.5542</td>\n",
       "    </tr>\n",
       "    <tr>\n",
       "      <th>872</th>\n",
       "      <td>695</td>\n",
       "      <td>5.0000</td>\n",
       "    </tr>\n",
       "    <tr>\n",
       "      <th>873</th>\n",
       "      <td>345765</td>\n",
       "      <td>9.0000</td>\n",
       "    </tr>\n",
       "    <tr>\n",
       "      <th>874</th>\n",
       "      <td>P/PP 3381</td>\n",
       "      <td>24.0000</td>\n",
       "    </tr>\n",
       "    <tr>\n",
       "      <th>875</th>\n",
       "      <td>2667</td>\n",
       "      <td>7.2250</td>\n",
       "    </tr>\n",
       "    <tr>\n",
       "      <th>876</th>\n",
       "      <td>7534</td>\n",
       "      <td>9.8458</td>\n",
       "    </tr>\n",
       "    <tr>\n",
       "      <th>877</th>\n",
       "      <td>349212</td>\n",
       "      <td>7.8958</td>\n",
       "    </tr>\n",
       "    <tr>\n",
       "      <th>878</th>\n",
       "      <td>349217</td>\n",
       "      <td>7.8958</td>\n",
       "    </tr>\n",
       "    <tr>\n",
       "      <th>879</th>\n",
       "      <td>11767</td>\n",
       "      <td>83.1583</td>\n",
       "    </tr>\n",
       "    <tr>\n",
       "      <th>880</th>\n",
       "      <td>230433</td>\n",
       "      <td>26.0000</td>\n",
       "    </tr>\n",
       "    <tr>\n",
       "      <th>881</th>\n",
       "      <td>349257</td>\n",
       "      <td>7.8958</td>\n",
       "    </tr>\n",
       "    <tr>\n",
       "      <th>882</th>\n",
       "      <td>7552</td>\n",
       "      <td>10.5167</td>\n",
       "    </tr>\n",
       "    <tr>\n",
       "      <th>883</th>\n",
       "      <td>C.A./SOTON 34068</td>\n",
       "      <td>10.5000</td>\n",
       "    </tr>\n",
       "    <tr>\n",
       "      <th>884</th>\n",
       "      <td>SOTON/OQ 392076</td>\n",
       "      <td>7.0500</td>\n",
       "    </tr>\n",
       "    <tr>\n",
       "      <th>885</th>\n",
       "      <td>382652</td>\n",
       "      <td>29.1250</td>\n",
       "    </tr>\n",
       "    <tr>\n",
       "      <th>886</th>\n",
       "      <td>211536</td>\n",
       "      <td>13.0000</td>\n",
       "    </tr>\n",
       "    <tr>\n",
       "      <th>887</th>\n",
       "      <td>112053</td>\n",
       "      <td>30.0000</td>\n",
       "    </tr>\n",
       "    <tr>\n",
       "      <th>888</th>\n",
       "      <td>W./C. 6607</td>\n",
       "      <td>23.4500</td>\n",
       "    </tr>\n",
       "    <tr>\n",
       "      <th>889</th>\n",
       "      <td>111369</td>\n",
       "      <td>30.0000</td>\n",
       "    </tr>\n",
       "    <tr>\n",
       "      <th>890</th>\n",
       "      <td>370376</td>\n",
       "      <td>7.7500</td>\n",
       "    </tr>\n",
       "  </tbody>\n",
       "</table>\n",
       "<p>891 rows × 2 columns</p>\n",
       "</div>"
      ],
      "text/plain": [
       "               Ticket      Fare\n",
       "0           A/5 21171    7.2500\n",
       "1            PC 17599   71.2833\n",
       "2    STON/O2. 3101282    7.9250\n",
       "3              113803   53.1000\n",
       "4              373450    8.0500\n",
       "5              330877    8.4583\n",
       "6               17463   51.8625\n",
       "7              349909   21.0750\n",
       "8              347742   11.1333\n",
       "9              237736   30.0708\n",
       "10            PP 9549   16.7000\n",
       "11             113783   26.5500\n",
       "12          A/5. 2151    8.0500\n",
       "13             347082   31.2750\n",
       "14             350406    7.8542\n",
       "15             248706   16.0000\n",
       "16             382652   29.1250\n",
       "17             244373   13.0000\n",
       "18             345763   18.0000\n",
       "19               2649    7.2250\n",
       "20             239865   26.0000\n",
       "21             248698   13.0000\n",
       "22             330923    8.0292\n",
       "23             113788   35.5000\n",
       "24             349909   21.0750\n",
       "25             347077   31.3875\n",
       "26               2631    7.2250\n",
       "27              19950  263.0000\n",
       "28             330959    7.8792\n",
       "29             349216    7.8958\n",
       "..                ...       ...\n",
       "861             28134   11.5000\n",
       "862             17466   25.9292\n",
       "863          CA. 2343   69.5500\n",
       "864            233866   13.0000\n",
       "865            236852   13.0000\n",
       "866     SC/PARIS 2149   13.8583\n",
       "867          PC 17590   50.4958\n",
       "868            345777    9.5000\n",
       "869            347742   11.1333\n",
       "870            349248    7.8958\n",
       "871             11751   52.5542\n",
       "872               695    5.0000\n",
       "873            345765    9.0000\n",
       "874         P/PP 3381   24.0000\n",
       "875              2667    7.2250\n",
       "876              7534    9.8458\n",
       "877            349212    7.8958\n",
       "878            349217    7.8958\n",
       "879             11767   83.1583\n",
       "880            230433   26.0000\n",
       "881            349257    7.8958\n",
       "882              7552   10.5167\n",
       "883  C.A./SOTON 34068   10.5000\n",
       "884   SOTON/OQ 392076    7.0500\n",
       "885            382652   29.1250\n",
       "886            211536   13.0000\n",
       "887            112053   30.0000\n",
       "888        W./C. 6607   23.4500\n",
       "889            111369   30.0000\n",
       "890            370376    7.7500\n",
       "\n",
       "[891 rows x 2 columns]"
      ]
     },
     "execution_count": 133,
     "metadata": {},
     "output_type": "execute_result"
    }
   ],
   "source": [
    "train[['Ticket', 'Fare']]"
   ]
  },
  {
   "cell_type": "markdown",
   "metadata": {
    "_uuid": "6e312b531311c551b5bd88324d5c5e2e2237d21c"
   },
   "source": [
    "조금 더 연구가 필요한 컬럼이다."
   ]
  },
  {
   "cell_type": "code",
   "execution_count": 134,
   "metadata": {
    "_uuid": "59cd3f9ddb9a99fceed6248335b0c7dd7baa8101"
   },
   "outputs": [],
   "source": [
    "# Ticket length column\n",
    "train['Ticket_length'] = train['Ticket'].apply(len)\n",
    "test['Ticket_length'] = test['Ticket'].apply(len)"
   ]
  },
  {
   "cell_type": "markdown",
   "metadata": {
    "_uuid": "8c40fe30afef23be0786720a4d5c520b76832db2"
   },
   "source": [
    "Cabin"
   ]
  },
  {
   "cell_type": "code",
   "execution_count": 135,
   "metadata": {
    "_uuid": "01f042959b63ffc8e948705d2146c2aaf7e84fd5",
    "scrolled": true
   },
   "outputs": [
    {
     "data": {
      "text/plain": [
       "no value           687\n",
       "C23 C25 C27          4\n",
       "B96 B98              4\n",
       "G6                   4\n",
       "E101                 3\n",
       "D                    3\n",
       "F33                  3\n",
       "F2                   3\n",
       "C22 C26              3\n",
       "B58 B60              2\n",
       "D36                  2\n",
       "B22                  2\n",
       "B77                  2\n",
       "F4                   2\n",
       "E24                  2\n",
       "B35                  2\n",
       "B57 B59 B63 B66      2\n",
       "C65                  2\n",
       "B20                  2\n",
       "E33                  2\n",
       "C68                  2\n",
       "B28                  2\n",
       "C52                  2\n",
       "C2                   2\n",
       "E121                 2\n",
       "F G73                2\n",
       "B18                  2\n",
       "C124                 2\n",
       "C92                  2\n",
       "D33                  2\n",
       "                  ... \n",
       "E10                  1\n",
       "C118                 1\n",
       "C110                 1\n",
       "A34                  1\n",
       "C85                  1\n",
       "A20                  1\n",
       "B38                  1\n",
       "B39                  1\n",
       "C7                   1\n",
       "E50                  1\n",
       "E40                  1\n",
       "A6                   1\n",
       "B94                  1\n",
       "A32                  1\n",
       "C54                  1\n",
       "E49                  1\n",
       "D45                  1\n",
       "D6                   1\n",
       "D11                  1\n",
       "B80                  1\n",
       "C86                  1\n",
       "D56                  1\n",
       "E63                  1\n",
       "B41                  1\n",
       "C91                  1\n",
       "D19                  1\n",
       "D30                  1\n",
       "A16                  1\n",
       "E34                  1\n",
       "C62 C64              1\n",
       "Name: Cabin, Length: 148, dtype: int64"
      ]
     },
     "execution_count": 135,
     "metadata": {},
     "output_type": "execute_result"
    }
   ],
   "source": [
    "train['Cabin'].value_counts()"
   ]
  },
  {
   "cell_type": "code",
   "execution_count": 136,
   "metadata": {
    "_uuid": "21bcae288789b960d27fe675517bee954f52b274",
    "scrolled": false
   },
   "outputs": [],
   "source": [
    "train['Cabin_first'] = train['Cabin'].apply(lambda x: x[0])\n",
    "test['Cabin_first'] = test['Cabin'].apply(lambda x: x[0])"
   ]
  },
  {
   "cell_type": "markdown",
   "metadata": {
    "_uuid": "a438613f82277d53ffb3a95ccb35480be37421c3"
   },
   "source": [
    "- 티켓과 마찬가지로 생각이 더 필요하다."
   ]
  },
  {
   "cell_type": "markdown",
   "metadata": {
    "_uuid": "a3c5f437a0698fcf42c6b1d8e6715d917475b6cf"
   },
   "source": [
    "embarked"
   ]
  },
  {
   "cell_type": "code",
   "execution_count": 137,
   "metadata": {
    "_uuid": "406ddc855f4cef43a13a68b64429500d4dfccee9",
    "scrolled": false
   },
   "outputs": [
    {
     "data": {
      "text/plain": [
       "<matplotlib.axes._subplots.AxesSubplot at 0x2057d46d7b8>"
      ]
     },
     "execution_count": 137,
     "metadata": {},
     "output_type": "execute_result"
    },
    {
     "data": {
      "image/png": "[encoded data removed]",
      "text/plain": [
       "<Figure size 576x432 with 3 Axes>"
      ]
     },
     "metadata": {
      "needs_background": "light"
     },
     "output_type": "display_data"
    }
   ],
   "source": [
    "fig, axes = plt.subplots(1,3, figsize=(8,6), constrained_layout=True)\n",
    "\n",
    "sns.countplot(x='Embarked', data=train, hue='Survived', ax=axes[0])\n",
    "sns.barplot(x='Embarked', y='Survived', data=train.groupby('Embarked').mean()['Survived'].reset_index(), order=['S', 'C', 'Q'], ax=axes[1])\n",
    "sns.countplot(x='Embarked', data=test, order=['S', 'C', 'Q'], ax=axes[2])"
   ]
  },
  {
   "cell_type": "markdown",
   "metadata": {
    "_uuid": "a3c5f437a0698fcf42c6b1d8e6715d917475b6cf"
   },
   "source": [
    "survived ratio"
   ]
  },
  {
   "cell_type": "code",
   "execution_count": 138,
   "metadata": {
    "scrolled": true
   },
   "outputs": [],
   "source": [
    "a = train.groupby(['cate_age', 'Pclass', 'Sex']).mean()['Survived']"
   ]
  },
  {
   "cell_type": "code",
   "execution_count": 143,
   "metadata": {},
   "outputs": [],
   "source": [
    "a = a.fillna(0).reset_index()"
   ]
  },
  {
   "cell_type": "code",
   "execution_count": 146,
   "metadata": {},
   "outputs": [],
   "source": [
    "a.columns = ['cate_age', 'Pclass', 'Sex', 'est_Survived']"
   ]
  },
  {
   "cell_type": "code",
   "execution_count": 147,
   "metadata": {},
   "outputs": [],
   "source": [
    "train = pd.merge(train, a, how='left', on=['cate_age', 'Pclass', 'Sex'])"
   ]
  },
  {
   "cell_type": "code",
   "execution_count": 148,
   "metadata": {},
   "outputs": [],
   "source": [
    "test = pd.merge(test, a, how='left', on=['cate_age', 'Pclass', 'Sex'])"
   ]
  },
  {
   "cell_type": "markdown",
   "metadata": {
    "_uuid": "00c14fe07e7d4235b30bb5c2b4234df09776cc42"
   },
   "source": [
    "---"
   ]
  },
  {
   "cell_type": "markdown",
   "metadata": {
    "_uuid": "ff1c7ecf5ac1d8d5581e6a2d8d157a60b5648d19"
   },
   "source": [
    "# features"
   ]
  },
  {
   "cell_type": "code",
   "execution_count": 149,
   "metadata": {
    "_uuid": "468f8563757a769c4cf39132ce4904ab5f24e2b6"
   },
   "outputs": [],
   "source": [
    "features = ['Name_length', 'est_Survived', 'Pclass', 'Sex', 'Embarked', 'na_count', 'name_title', 'cate_age', 'family_size']"
   ]
  },
  {
   "cell_type": "code",
   "execution_count": 150,
   "metadata": {
    "_uuid": "4cc27ed6486a5971c363cbb27fba183c55ed4e2b",
    "scrolled": true
   },
   "outputs": [],
   "source": [
    "train2 = train[features]\n",
    "test2 = test[features]"
   ]
  },
  {
   "cell_type": "markdown",
   "metadata": {
    "_uuid": "a20cd1df715e1d9552753e20f95904c7df38c592"
   },
   "source": [
    "# lebeling"
   ]
  },
  {
   "cell_type": "code",
   "execution_count": 151,
   "metadata": {
    "_uuid": "34d33b12acd0bf82ca69858219a5270122bc796a"
   },
   "outputs": [],
   "source": [
    "label = LabelEncoder()\n",
    "\n",
    "df = pd.concat([train2, test2])\n",
    "\n",
    "for i in ['Sex', 'Embarked', 'name_title']:\n",
    "    df[i] = label.fit_transform(df[i])"
   ]
  },
  {
   "cell_type": "code",
   "execution_count": 153,
   "metadata": {
    "_uuid": "409b1edd7fa79de4c1917ade405782097d09a453",
    "scrolled": true
   },
   "outputs": [],
   "source": [
    "train2 = df.iloc[:891, :]\n",
    "test2 = df.iloc[891:, :]"
   ]
  },
  {
   "cell_type": "markdown",
   "metadata": {
    "_uuid": "fe44804589d2fb10d9c819fefa1ce0a84e006857"
   },
   "source": [
    "# one hot encoding"
   ]
  },
  {
   "cell_type": "code",
   "execution_count": 157,
   "metadata": {
    "_uuid": "cbe714da3c5ddbec617d3394aecb63e850caced6",
    "scrolled": true
   },
   "outputs": [],
   "source": [
    "train2 = pd.concat([train['Survived'], train2.iloc[:, :2], pd.get_dummies(train2.iloc[:, 2:].astype(object))], axis=1)"
   ]
  },
  {
   "cell_type": "code",
   "execution_count": 158,
   "metadata": {
    "_uuid": "7a2501114e959e0f8196c6817c3fd8fc0b364e2f"
   },
   "outputs": [],
   "source": [
    "test2 = pd.concat([test2.iloc[:, :2], pd.get_dummies(test2.iloc[:, 2:].astype(object))], axis=1)"
   ]
  },
  {
   "cell_type": "markdown",
   "metadata": {
    "_uuid": "a8f2f7591517c76b7bf1c6c649d94c2cd9af4391"
   },
   "source": [
    "# Modeling"
   ]
  },
  {
   "cell_type": "markdown",
   "metadata": {
    "_uuid": "a40eb300d6e8db25b11c23545e5f1e058f0df667"
   },
   "source": [
    "## Random Forest"
   ]
  },
  {
   "cell_type": "code",
   "execution_count": 159,
   "metadata": {
    "_uuid": "a06f9b51a37292c9494b24bc3663edb2e62bc6d9"
   },
   "outputs": [],
   "source": [
    "def rf_model(train_val, test_val):\n",
    "    regr = RandomForestRegressor(max_depth=max_depth, random_state=0, n_estimators=100).fit(\n",
    "    train_val.drop(columns=['Survived']), train_val['Survived'])\n",
    "    \n",
    "    test_val_y = regr.predict(test_val.drop(columns=['Survived'])) > decision_boundary\n",
    "    test_val_y = test_val_y.astype(int)\n",
    "    \n",
    "    true_count = 0\n",
    "    for i in test_val_y - test_val['Survived']:\n",
    "        if i == 0:\n",
    "            true_count+=1\n",
    "    \n",
    "    return true_count/len(test_val_y)"
   ]
  },
  {
   "cell_type": "markdown",
   "metadata": {
    "_uuid": "a0fd0f0f5b2165eee1668f9cd1e2b43cec2ec426"
   },
   "source": [
    "# 5-fold"
   ]
  },
  {
   "cell_type": "code",
   "execution_count": 160,
   "metadata": {
    "_uuid": "642071ba01e303d7a87d3876605b891d4cb30604"
   },
   "outputs": [
    {
     "name": "stdout",
     "output_type": "stream",
     "text": [
      "accuacy : 0.8379888268156425, max_depth : 3, decision boundary : 0.5\n",
      "accuacy : 0.8435754189944135, max_depth : 4, decision boundary : 0.49\n",
      "accuacy : 0.83175360408428, max_depth : 4, decision boundary : 0.49\n",
      "accuacy : 0.8491620111731844, max_depth : 4, decision boundary : 0.5\n",
      "accuacy : 0.8336158014772037, max_depth : 4, decision boundary : 0.5\n",
      "accuacy : 0.8302680308831837, max_depth : 4, decision boundary : 0.5\n",
      "accuacy : 0.8324022346368715, max_depth : 5, decision boundary : 0.48\n",
      "accuacy : 0.8379888268156425, max_depth : 5, decision boundary : 0.49\n",
      "accuacy : 0.8435754189944135, max_depth : 5, decision boundary : 0.5\n"
     ]
    }
   ],
   "source": [
    "cv = KFold(5, shuffle=True, random_state=0)\n",
    "\n",
    "for j in range(2, 9):\n",
    "    for k in range(30, 51):\n",
    "        L = []\n",
    "        for i, (idx_train, idx_test) in enumerate(cv.split(train2)):\n",
    "            train_val = train2.iloc[idx_train]\n",
    "            test_val = train2.iloc[idx_test]\n",
    "            \n",
    "            max_depth=j\n",
    "            decision_boundary=k/100\n",
    "            \n",
    "            L.append(rf_model(train_val, test_val))\n",
    "            if np.mean(L) > .83:\n",
    "                print('accuacy : {}, max_depth : {}, decision boundary : {}'.format(np.mean(L), j, k/100))\n"
   ]
  },
  {
   "cell_type": "markdown",
   "metadata": {
    "_uuid": "424c9714298a4065dbe5a974f2af52e858bbb6ab"
   },
   "source": [
    "## Xgboost"
   ]
  },
  {
   "cell_type": "raw",
   "metadata": {
    "_uuid": "2dd4789a89a8a9a4823507a6c4f212d4023596f5"
   },
   "source": [
    "def xgb_model(train_val, test_val):\n",
    "    \n",
    "    gbm = xgb.XGBClassifier(\n",
    "    learning_rate = 0.02,\n",
    "    n_estimators= 2000,\n",
    "    max_depth= 8,\n",
    "    min_child_weight= 2,\n",
    "    gamma=1,\n",
    "#     gamma=0.9,                        \n",
    "    subsample=0.8,\n",
    "    colsample_bytree=0.8,\n",
    "    objective= 'binary:logistic',\n",
    "#     nthread= -1,\n",
    "    scale_pos_weight=1).fit(train_val.drop(columns=['Survived']), train_val['Survived'])\n",
    "    \n",
    "    test_val_y = gbm.predict(test_val.drop(columns=['Survived']))\n",
    "    \n",
    "    true_count = 0\n",
    "    for i in test_val_y - test_val['Survived']:\n",
    "        if i == 0:\n",
    "            true_count+=1\n",
    "    \n",
    "    return true_count/len(test_val_y)"
   ]
  },
  {
   "cell_type": "markdown",
   "metadata": {
    "_uuid": "ae495f2675df6e067be56072bc3e50d9dd7b7045"
   },
   "source": [
    "## 5-fold CV"
   ]
  },
  {
   "cell_type": "markdown",
   "metadata": {
    "_uuid": "814b6dfa771fd9f84eca0ac99487139ae9f2e125"
   },
   "source": [
    "cv = KFold(5, shuffle=True, random_state=0)\n",
    "L = []\n",
    "for i, (idx_train, idx_test) in enumerate(cv.split(train)):\n",
    "    train_val = train.iloc[idx_train]\n",
    "    test_val = train.iloc[idx_test]\n",
    "\n",
    "    L.append(xgb_model(train_val, test_val))\n",
    "    \n",
    "print(np.mean(L)) "
   ]
  },
  {
   "cell_type": "markdown",
   "metadata": {
    "_uuid": "913a3dca4841b5d535529138bf811afc35245e30"
   },
   "source": [
    "## Save Submission"
   ]
  },
  {
   "cell_type": "markdown",
   "metadata": {
    "_uuid": "c420acd23e423f4203065efd53c6b51e843995f4"
   },
   "source": [
    "### Random Forest"
   ]
  },
  {
   "cell_type": "code",
   "execution_count": 161,
   "metadata": {
    "_uuid": "d9dc6e9cdd3937132e1f968faca76dec82d49f34"
   },
   "outputs": [],
   "source": [
    "regr = RandomForestRegressor(max_depth=4, random_state=0, n_estimators=100).fit(\n",
    "    train2[test2.columns], train2['Survived'])\n",
    "test_y = regr.predict(test2)\n",
    "test_y = test_y > .5\n",
    "predictions = test_y.astype(int)\n",
    "test_PassengerId = pd.read_csv('../input/gender_submission.csv')['PassengerId']\n",
    "submission = pd.concat([pd.DataFrame(test_PassengerId), pd.DataFrame({'Survived':predictions})], axis=1)\n",
    "submission.to_csv(\"submission_rf4.csv\", index=False)"
   ]
  },
  {
   "cell_type": "markdown",
   "metadata": {
    "_uuid": "83d51b5fde049dbf18c9a8a050b49b8ec0c36009"
   },
   "source": [
    "### Xgboost"
   ]
  },
  {
   "cell_type": "raw",
   "metadata": {
    "_uuid": "6ce293cb1e857cddecfa8f93e593a72554b2c2c2"
   },
   "source": [
    "gbm = xgb.XGBClassifier(\n",
    "    learning_rate = 0.02,\n",
    "    n_estimators= 2000,\n",
    "    max_depth= 8,\n",
    "    min_child_weight= 2,\n",
    "    gamma=1,\n",
    "#     gamma=0.9,                        \n",
    "    subsample=0.8,\n",
    "    colsample_bytree=0.8,\n",
    "    objective= 'binary:logistic',\n",
    "#     nthread= -1,\n",
    "    scale_pos_weight=1).fit(train.drop(columns=['Survived', 'Cabin_first_T']), train['Survived'])\n",
    "\n",
    "predictions = gbm.predict(test)\n",
    "test_PassengerId = pd.read_csv('../input/gender_submission.csv')['PassengerId']\n",
    "submission2 = pd.concat([pd.DataFrame(test_PassengerId), pd.DataFrame({'Survived':predictions})], axis=1)\n",
    "submission2.to_csv(\"submission_xgb2.csv\", index=False)"
   ]
  },
  {
   "cell_type": "markdown",
   "metadata": {
    "_uuid": "3e5887aa8f6719d89862d15cf7ea1252241e0fd5"
   },
   "source": [
    "### ensembles"
   ]
  },
  {
   "cell_type": "raw",
   "metadata": {
    "_uuid": "a81075395929022edfdb85e12520b8760c2e2dc1",
    "scrolled": true
   },
   "source": [
    "L=[]\n",
    "for i,j in zip(regr.predict(test), submission2['Survived']):\n",
    "    if (i+j)/2 > .5:\n",
    "        L.append(1)\n",
    "    else:\n",
    "        L.append(0)"
   ]
  },
  {
   "cell_type": "raw",
   "metadata": {
    "_uuid": "61c393083072266be32730b67c45a1e29c61a20c",
    "scrolled": true
   },
   "source": [
    "pd.concat([pd.DataFrame(test_PassengerId), pd.DataFrame({'Survived':L})], axis=1).to_csv(\"submission_ensembles.csv\", index=False)"
   ]
  },
  {
   "cell_type": "code",
   "execution_count": null,
   "metadata": {
    "_uuid": "d8b499f006939b6cdaf3ea42f59a35c653633791"
   },
   "outputs": [],
   "source": []
  }
 ],
 "metadata": {
  "kernelspec": {
   "display_name": "Python 3",
   "language": "python",
   "name": "python3"
  },
  "language_info": {
   "codemirror_mode": {
    "name": "ipython",
    "version": 3
   },
   "file_extension": ".py",
   "mimetype": "text/x-python",
   "name": "python",
   "nbconvert_exporter": "python",
   "pygments_lexer": "ipython3",
   "version": "3.7.0"
  }
 },
 "nbformat": 4,
 "nbformat_minor": 1
}
